{
 "cells": [
  {
   "cell_type": "markdown",
   "id": "298a1e3b-5282-457a-bdf0-3003ca6b21a0",
   "metadata": {},
   "source": [
    "# P2 Milestone"
   ]
  },
  {
   "cell_type": "markdown",
   "id": "23092b25-6455-4e07-8fca-230c113b31fa",
   "metadata": {},
   "source": [
    "## Was Maslow's Hierarchy of Needs dismantled during the COVID-19 pandemic?\n",
    "Maslow's Hierarchy of Needs serves as a model for assessing human behavior. We clearly\n",
    "observed a shift in behavior during the pandemic. Now, we must ask: were the blocks of the\n",
    "pyramid also rearranged? By analyzing the mobility report alongside Wikipedia searches, we\n",
    "aim to explore whether the hierarchy of needs remains unchanged or if it needs redefinition. We\n",
    "will also try to draw a link between the blocks of the pyramid and the mobility patterns. For\n",
    "example, groceries and pharmacy represent physiological needs, safety needs may include\n",
    "residential or job security, love and belonging could be related to relationships and\n",
    "transportation to see loved ones, and esteem can be associated with employment, and\n",
    "self-actualization. Self-actualization, at the top of Maslow's Hierarchy, involves personal and\n",
    "professional growth, creativity, and a deeper sense of purpose. This process may lead to a\n",
    "renewed appreciation for Maslow's work or reveal new insights into human motivation during\n",
    "these unique times."
   ]
  },
  {
   "cell_type": "code",
   "execution_count": null,
   "id": "55e70923-36f9-4284-9049-e265ac697350",
   "metadata": {},
   "outputs": [],
   "source": []
  }
 ],
 "metadata": {
  "kernelspec": {
   "display_name": "Python 3 (ipykernel)",
   "language": "python",
   "name": "python3"
  },
  "language_info": {
   "codemirror_mode": {
    "name": "ipython",
    "version": 3
   },
   "file_extension": ".py",
   "mimetype": "text/x-python",
   "name": "python",
   "nbconvert_exporter": "python",
   "pygments_lexer": "ipython3",
   "version": "3.8.18"
  }
 },
 "nbformat": 4,
 "nbformat_minor": 5
}
